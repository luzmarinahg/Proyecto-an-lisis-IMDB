{
 "cells": [
  {
   "cell_type": "markdown",
   "metadata": {},
   "source": [
    "En este documento nos hemos planteado realizar una descripción de los retos y desafíos a la hora de ejecutar el proyecto del Módulo 2 "
   ]
  },
  {
   "cell_type": "markdown",
   "metadata": {},
   "source": [
    "\n",
    "#### 1. Selección de Herramientas para la Recolección de Datos. \n",
    "#### Historia de Usuario: \n",
    "Seleccionar las herramientas adecuadas para extraer datos de diferentes fuentes, para poder asegurar de que la información recopilada es precisa y completa.\n",
    "\n",
    "Criterios de Aceptación: \n",
    "\n",
    "Identificar y evaluar varias APIs y bibliotecas de scraping web:   \n",
    "Seleccionar herramientas que cumplan con los requisitos del proyecto (por ejemplo, Python con Beautiful Soup y Selenium).\n",
    "Documentar el proceso de selección y justificación de las herramientas elegidas.\n",
    "\n",
    "En realidad, esta Historia vino prácticamente definida por la descripción del proyecto:\n",
    "- Se utilizó la API Cinema Movies desarrollada por Adalab a partir de otra más completa, pero que necesitaba un registro de pago\n",
    "- Las herramientas seleccionadas para Web Scrapping fueron Python en combinación con las librerías Selenium y Beautiful Soup sobre la API mencionada arriba y una página de Wikipedia sobre los premios Oscar \n"
   ]
  },
  {
   "cell_type": "markdown",
   "metadata": {},
   "source": [
    "#### 2. Decisión de la Estructura de la Base de Datos\n",
    "Historia de Usuario: Diseñar una estructura de base de datos que pueda almacenar de manera eficiente toda la información recolectada, para que los datos puedan ser fácilmente consultados y analizados.\n",
    "\n",
    "Criterios de Aceptación:\n",
    "Crear un diagrama ER (Entidad-Relación) detallado de la base de datos.\n",
    "Definir las tablas necesarias y sus relaciones (por ejemplo, películas, directores, actores, premios).\n",
    "Documentar la estructura de la base de datos y justificar las decisiones de diseño.\n",
    "\n",
    "Con la información recogida, decidimos estructurar la BBDD en 5 tablas:\n",
    "1. Film: listado de las películas extraidas de la API\n",
    "2. Film_details: detalles de un subconjunto de las películas anteriores\n",
    "3. Actors: detalles de los actores de las películas anteriores\n",
    "4. Movie_actor: tabla intermedia conectando actors y film\n",
    "5. Oscars: tabla independiente conteniendo la información sobre los premios de los años seleccionados\n",
    "\n",
    "Desafíos: Inicialmente nos pareció más sencillo, crear la base de datos directamente en mySQL, y a través del EER. Pero fue un poco precipitado, posteriormente tuvimos que cambiar cosas diversas, tales como los tipo de datos, los tamaños de las columnas e incluso las relaciones entre las tablas, y realizar varias versiones de BBDD"
   ]
  },
  {
   "cell_type": "markdown",
   "metadata": {},
   "source": [
    "#### 3. Extracción de Datos de APIs y Web Scraping\n",
    "Historia de Usuario: Extraer información relevante de APIs y sitios web para asegurarnos de que tenemos todos los datos necesarios para el análisis posterior.\n",
    "\n",
    "\n",
    "Criterios de Aceptación:\n",
    "\n",
    "Fase 1.1. Configurar y realizar solicitudes a la API de MoviesDataset para obtener datos iniciales de películas.\n",
    "Decidimos extraer películas de todos los géneros delos años entre 1960 y 1975. Esta fase fue relativamente sencilla y la pudimos resolver fácilmente.\n",
    "\n",
    "Fase 1.2. y 1.3. Usar Selenium para extraer detalles adicionales de IMDB y Rotten Tomatoes.\n",
    "La fase 1.2. se hizo bastante más compleja, dando problemas fundamentalmente el código para pode recoger las situaciones en las que había más de un director o guionista.\n",
    "La fase 1.3 \n",
    "\n",
    "Fase 1.4. Se utilizó python y Beautiful Soup para extraer la información sobre los premios Oscar más relevantes en la quincena de años seleccionada en 1.1\n",
    "\n",
    "Almacenar los datos extraídos en una estructura temporal antes de insertarlos en la base de datos. Todos los datos extraidos en las fases anteriores se fueron almacenando en archivos .csv para poder después importarlos a la base de datos\n"
   ]
  },
  {
   "cell_type": "markdown",
   "metadata": {},
   "source": [
    "#### 4. Inserción de Datos en la Base de Datos\n",
    "\n",
    "Historia de Usuario: Insertar los datos recolectados en la base de datos diseñada, para que la información esté organizada y sea accesible para consultas.\n",
    "\n",
    "Criterios de Aceptación:\n",
    "\n",
    "Escribir scripts de Python/SQL para insertar datos en la base de datos. \n",
    "Generar la base de datos e insertar los datos es, con diferencia, la parte más compleja del proyecto. Con los problemas que hemos tenido con mySQL workbench, hemos llegado a crear la base y las tablas, y poblar todas las tablas excepto la que conecta a los actores con las películas"
   ]
  },
  {
   "cell_type": "markdown",
   "metadata": {},
   "source": [
    "#### 5. Realización de Consultas para Análisis de Datos\n",
    "Historia de Usuario: Como analista de datos, quiero realizar consultas SQL para extraer información específica de la base de datos, para responder a preguntas clave sobre las tendencias y popularidad de las películas.\n",
    "Criterios de Aceptación:\n",
    "Escribir y ejecutar consultas SQL para responder a preguntas específicas (por ejemplo, ¿qué género ha recibido más premios Óscar?).\n",
    "Analizar los resultados de las consultas y verificar su exactitud.\n",
    "Documentar las consultas realizadas y los hallazgos obtenidos."
   ]
  },
  {
   "cell_type": "markdown",
   "metadata": {},
   "source": [
    "#### 6. Presentación de Resultados\n",
    "Historia de Usuario: Como miembro del equipo de DataStream, quiero presentar los resultados del análisis de datos de manera clara y efectiva, para que las partes interesadas puedan entender y utilizar la información para la toma de decisiones.\n",
    "Criterios de Aceptación:\n",
    "Preparar una presentación que incluya una visión general del proyecto, metodologías utilizadas, y resultados clave.\n",
    "Ensayar la presentación y recibir retroalimentación para mejorarla antes de la sesión final."
   ]
  }
 ],
 "metadata": {
  "language_info": {
   "name": "python"
  }
 },
 "nbformat": 4,
 "nbformat_minor": 2
}
